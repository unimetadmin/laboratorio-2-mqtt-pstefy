{
 "cells": [
  {
   "cell_type": "code",
   "execution_count": null,
   "metadata": {
    "scrolled": false
   },
   "outputs": [
    {
     "name": "stdout",
     "output_type": "stream",
     "text": [
      "connected (b'grafico_nevera')\n"
     ]
    }
   ],
   "source": [
    "import sys\n",
    "import json\n",
    "import paho.mqtt.client\n",
    "import plotly.graph_objects as plot\n",
    "\n",
    "nevera_temp = plot.FigureWidget()\n",
    "nevera_temp\n",
    "nevera_temp.add_scatter(y = [], x = [], text = \"Temperatura\")\n",
    "fridgeScatter = nevera_temp.data[0]\n",
    "temperaturas = []\n",
    "tiempos = []\n",
    "def on_connect(client, userdata, flags, rc):\n",
    "    print('connected (%s)' % client._client_id)\n",
    "    client.subscribe(topic='casa/cocina/nevera', qos=2)\n",
    "\n",
    "def on_message(client, userdata, message):\n",
    "    data = json.loads(message.payload)\n",
    "    if(data.get(\"temperatura\")):\n",
    "        temperaturas.append(float(data[\"temperatura\"]))\n",
    "        tiempos.append(data[\"dateTime\"])\n",
    "        fridgeScatter.x = tiempos\n",
    "        fridgeScatter.y = temperaturas\n",
    "\n",
    "def main():\n",
    "    client = paho.mqtt.client.Client(client_id='grafico_nevera', clean_session=False)\n",
    "    client.on_connect = on_connect\n",
    "    client.on_message = on_message\n",
    "    client.connect(host='127.0.0.1', port=1883)\n",
    "    client.loop_forever()\n",
    "    \n",
    "if __name__ == '__main__':\n",
    "    main()\n",
    "\n",
    "sys.exit(0)"
   ]
  }
 ],
 "metadata": {
  "kernelspec": {
   "display_name": "Python 3",
   "language": "python",
   "name": "python3"
  },
  "language_info": {
   "codemirror_mode": {
    "name": "ipython",
    "version": 3
   },
   "file_extension": ".py",
   "mimetype": "text/x-python",
   "name": "python",
   "nbconvert_exporter": "python",
   "pygments_lexer": "ipython3",
   "version": "3.8.5"
  }
 },
 "nbformat": 4,
 "nbformat_minor": 4
}
