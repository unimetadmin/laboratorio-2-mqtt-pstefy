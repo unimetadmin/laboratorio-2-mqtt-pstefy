{
 "cells": [
  {
   "cell_type": "code",
   "execution_count": 1,
   "metadata": {},
   "outputs": [],
   "source": [
    "import sys\n",
    "import json\n",
    "import paho.mqtt.client"
   ]
  },
  {
   "cell_type": "code",
   "execution_count": 2,
   "metadata": {},
   "outputs": [
    {
     "data": {
      "application/vnd.jupyter.widget-view+json": {
       "model_id": "2c0801569983458c82f307a81372e46c",
       "version_major": 2,
       "version_minor": 0
      },
      "text/plain": [
       "FigureWidget({\n",
       "    'data': [], 'layout': {'template': '...'}\n",
       "})"
      ]
     },
     "metadata": {},
     "output_type": "display_data"
    }
   ],
   "source": [
    "import plotly.graph_objects as plot\n",
    "\n",
    "olla_temp = plot.FigureWidget()\n",
    "olla_temp"
   ]
  },
  {
   "cell_type": "code",
   "execution_count": null,
   "metadata": {},
   "outputs": [
    {
     "name": "stdout",
     "output_type": "stream",
     "text": [
      "connected (b'grafico_olla')\n"
     ]
    }
   ],
   "source": [
    "olla_temp.add_scatter(y = [], x = [], text = \"Temperatura olla\")\n",
    "info = olla_temp.data[0]\n",
    "temperaturas = []\n",
    "tiempos = []\n",
    "def on_connect(client, userdata, flags, rc):\n",
    "    print('connected (%s)' % client._client_id)\n",
    "    client.subscribe(topic='casa/cocina/olla', qos=2)\n",
    "\n",
    "def on_message(client, userdata, message):\n",
    "    data = json.loads(message.payload)\n",
    "    if(\"temperatura\" in data):\n",
    "        temperaturas.append(float(data[\"temperatura\"]))\n",
    "        tiempos.append(data[\"dateTime\"])\n",
    "        info.y = temperaturas\n",
    "        info.x = tiempos\n",
    "\n",
    "def main():\n",
    "    client = paho.mqtt.client.Client(client_id='grafico_olla', clean_session=False)\n",
    "    client.on_connect = on_connect\n",
    "    client.on_message = on_message\n",
    "    client.connect(host='127.0.0.1', port=1883)\n",
    "    client.loop_forever()\n",
    "    \n",
    "if __name__ == '__main__':\n",
    "    main()\n",
    "\n",
    "sys.exit(0)"
   ]
  }
 ],
 "metadata": {
  "kernelspec": {
   "display_name": "Python 3",
   "language": "python",
   "name": "python3"
  },
  "language_info": {
   "codemirror_mode": {
    "name": "ipython",
    "version": 3
   },
   "file_extension": ".py",
   "mimetype": "text/x-python",
   "name": "python",
   "nbconvert_exporter": "python",
   "pygments_lexer": "ipython3",
   "version": "3.8.5"
  }
 },
 "nbformat": 4,
 "nbformat_minor": 4
}
